{
  "nbformat": 4,
  "nbformat_minor": 0,
  "metadata": {
    "colab": {
      "name": "10_Problem_Solution.ipynb",
      "provenance": [],
      "include_colab_link": true
    },
    "kernelspec": {
      "name": "python3",
      "display_name": "Python 3"
    },
    "language_info": {
      "name": "python"
    }
  },
  "cells": [
    {
      "cell_type": "markdown",
      "metadata": {
        "id": "view-in-github",
        "colab_type": "text"
      },
      "source": [
        "<a href=\"https://colab.research.google.com/github/shriramrahul7/fmml2021/blob/main/10_Problem_Solution.ipynb\" target=\"_parent\"><img src=\"https://colab.research.google.com/assets/colab-badge.svg\" alt=\"Open In Colab\"/></a>"
      ]
    },
    {
      "cell_type": "code",
      "metadata": {
        "id": "4tHdnVmZSQIR"
      },
      "source": [
        "# Madagascar problem"
      ],
      "execution_count": 1,
      "outputs": []
    },
    {
      "cell_type": "code",
      "metadata": {
        "id": "KkTnYRbjSZ4g"
      },
      "source": [
        "import numpy as np"
      ],
      "execution_count": 2,
      "outputs": []
    },
    {
      "cell_type": "code",
      "metadata": {
        "id": "vbsZHOPVSbYh"
      },
      "source": [
        "A = np.array([[20, 122, 20], [35,180, 35],[50, 220, 65], [70, 300, 30]], dtype=np.float16)\n",
        "x = np.array([[0.05], [0.002], [0.02]], dtype=np.float16)"
      ],
      "execution_count": 13,
      "outputs": []
    },
    {
      "cell_type": "code",
      "metadata": {
        "id": "4CvxUBB8U0PA"
      },
      "source": [
        "# 4x3 . 3x1 = 4x1"
      ],
      "execution_count": 4,
      "outputs": []
    },
    {
      "cell_type": "code",
      "metadata": {
        "id": "PSJBzTZzSdzT",
        "outputId": "a918d150-c8bb-4a84-e477-1f1fd676e10c",
        "colab": {
          "base_uri": "https://localhost:8080/"
        }
      },
      "source": [
        "y = np.matmul(A,x) - 4.0\n",
        "y"
      ],
      "execution_count": 14,
      "outputs": [
        {
          "output_type": "execute_result",
          "data": {
            "text/plain": [
              "array([[-2.355 ],\n",
              "       [-1.189 ],\n",
              "       [ 0.2383],\n",
              "       [ 0.699 ]], dtype=float16)"
            ]
          },
          "metadata": {},
          "execution_count": 14
        }
      ]
    },
    {
      "cell_type": "code",
      "metadata": {
        "id": "Um0CIsH1VJPi"
      },
      "source": [
        "Z = np.hstack((A,y))"
      ],
      "execution_count": 19,
      "outputs": []
    },
    {
      "cell_type": "code",
      "metadata": {
        "id": "Oryf-5goVTxG",
        "outputId": "2310df8e-4f47-460b-988e-400c6840f1df",
        "colab": {
          "base_uri": "https://localhost:8080/"
        }
      },
      "source": [
        "Z"
      ],
      "execution_count": 20,
      "outputs": [
        {
          "output_type": "execute_result",
          "data": {
            "text/plain": [
              "array([[ 2.000e+01,  1.220e+02,  2.000e+01, -2.355e+00],\n",
              "       [ 3.500e+01,  1.800e+02,  3.500e+01, -1.189e+00],\n",
              "       [ 5.000e+01,  2.200e+02,  6.500e+01,  2.383e-01],\n",
              "       [ 7.000e+01,  3.000e+02,  3.000e+01,  6.992e-01]], dtype=float16)"
            ]
          },
          "metadata": {},
          "execution_count": 20
        }
      ]
    },
    {
      "cell_type": "code",
      "metadata": {
        "id": "vQt6XMT8ViYW"
      },
      "source": [
        "def RankArray(A,x):\n",
        "  y = np.dot(A,x) - 4.0\n",
        "  L = np.hstack((A,y))\n",
        "  return L"
      ],
      "execution_count": 21,
      "outputs": []
    },
    {
      "cell_type": "code",
      "metadata": {
        "id": "6VqMLbRWVwL3",
        "outputId": "7d33b90d-ff5e-4add-86f9-d23d21742aa5",
        "colab": {
          "base_uri": "https://localhost:8080/"
        }
      },
      "source": [
        "data = RankArray(A,x)\n",
        "print(data)\n"
      ],
      "execution_count": 25,
      "outputs": [
        {
          "output_type": "stream",
          "name": "stdout",
          "text": [
            "[[ 2.000e+01  1.220e+02  2.000e+01 -2.355e+00]\n",
            " [ 3.500e+01  1.800e+02  3.500e+01 -1.189e+00]\n",
            " [ 5.000e+01  2.200e+02  6.500e+01  2.383e-01]\n",
            " [ 7.000e+01  3.000e+02  3.000e+01  6.992e-01]]\n"
          ]
        }
      ]
    },
    {
      "cell_type": "code",
      "metadata": {
        "id": "mKv0JJ1WGeA9",
        "outputId": "a5f9e00f-8c58-4c03-fc50-7e0ff4bce024",
        "colab": {
          "base_uri": "https://localhost:8080/"
        }
      },
      "source": [
        "ll = [(data[i]) for i, j in enumerate(data[:, -1]) if j >= 0]\n",
        "\n",
        "print(\"The Risk Prone people are :\")\n",
        "\n",
        "for i in ll:\n",
        "  print(i)"
      ],
      "execution_count": 27,
      "outputs": [
        {
          "output_type": "stream",
          "name": "stdout",
          "text": [
            "The Risk Prone people are :\n",
            "[ 50.     220.      65.       0.2383]\n",
            "[ 70.    300.     30.      0.699]\n"
          ]
        }
      ]
    },
    {
      "cell_type": "code",
      "metadata": {
        "id": "WD17w8DMCiu-"
      },
      "source": [
        ""
      ],
      "execution_count": null,
      "outputs": []
    }
  ]
}