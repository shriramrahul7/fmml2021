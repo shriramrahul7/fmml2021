{
  "nbformat": 4,
  "nbformat_minor": 0,
  "metadata": {
    "colab": {
      "name": "07_Defining_Functions.ipynb",
      "provenance": [],
      "include_colab_link": true
    },
    "kernelspec": {
      "name": "python3",
      "display_name": "Python 3"
    },
    "language_info": {
      "name": "python"
    }
  },
  "cells": [
    {
      "cell_type": "markdown",
      "metadata": {
        "id": "view-in-github",
        "colab_type": "text"
      },
      "source": [
        "<a href=\"https://colab.research.google.com/github/shriramrahul7/fmml2021/blob/main/07_Defining_Functions.ipynb\" target=\"_parent\"><img src=\"https://colab.research.google.com/assets/colab-badge.svg\" alt=\"Open In Colab\"/></a>"
      ]
    },
    {
      "cell_type": "code",
      "metadata": {
        "id": "1pqsgNqwnbHE"
      },
      "source": [
        "def inList (my_char, my_list=['a','e','i','o','u']):\n",
        "  \"\"\" this is a function to check whether a char is vowel or not \"\"\"\n",
        "  for each_char in my_list:\n",
        "    if each_char == my_char.lower():\n",
        "      return True\n",
        "  return False"
      ],
      "execution_count": 1,
      "outputs": []
    },
    {
      "cell_type": "code",
      "metadata": {
        "id": "SLpNGCWYn6Er",
        "outputId": "5961fbe4-0dba-489a-997f-67e026dd38f1",
        "colab": {
          "base_uri": "https://localhost:8080/"
        }
      },
      "source": [
        "inList( '4', ['x', 'y', 'z', 1,4, 5])"
      ],
      "execution_count": 5,
      "outputs": [
        {
          "output_type": "execute_result",
          "data": {
            "text/plain": [
              "False"
            ]
          },
          "metadata": {},
          "execution_count": 5
        }
      ]
    },
    {
      "cell_type": "code",
      "metadata": {
        "id": "r_KUNOW3rCc6"
      },
      "source": [
        "# Write a function to check whether a given number belongs to fibonacci series or not\n",
        "def isFib(n):\n",
        "  f1 = 0\n",
        "  f2 = 1\n",
        "  f = 0\n",
        "  while(f<n):\n",
        "    f = f1 + f2\n",
        "    f1 = f2\n",
        "    f2 = f\n",
        "  if (n==f):\n",
        "    print(f\"{n} is a Fibonacci number\")\n",
        "  else:\n",
        "    print(f\"{n} is not a Fibonacci number\")"
      ],
      "execution_count": 14,
      "outputs": []
    },
    {
      "cell_type": "code",
      "metadata": {
        "id": "d1xH2ulZrHYC",
        "outputId": "5e5b77b5-ea03-40f2-fbb8-f9b0c149f1b9",
        "colab": {
          "base_uri": "https://localhost:8080/"
        }
      },
      "source": [
        "isFib(8)"
      ],
      "execution_count": 25,
      "outputs": [
        {
          "output_type": "stream",
          "name": "stdout",
          "text": [
            "8 is a Fibonacci number\n"
          ]
        }
      ]
    },
    {
      "cell_type": "markdown",
      "metadata": {
        "id": "3hfExC9BPkKK"
      },
      "source": [
        "Reference: [Python Documentation on Functions](https://docs.python.org/3/tutorial/controlflow.html#defining-functions)"
      ]
    }
  ]
}